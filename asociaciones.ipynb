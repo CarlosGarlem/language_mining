{
 "cells": [
  {
   "cell_type": "code",
   "execution_count": 1,
   "metadata": {
    "collapsed": true
   },
   "outputs": [],
   "source": [
    "my_dict = {}\n",
    "\n",
    "news_1 = 'a,b,c'\n",
    "fb_1 = 'A,B,C'\n",
    "news_2 = 'x,a,z'\n",
    "fb_2 = 'X,Y,Z'\n",
    "news_3 = 'b,d,x'\n",
    "fb_3 = 'A,W,Y'"
   ]
  },
  {
   "cell_type": "code",
   "execution_count": 2,
   "metadata": {
    "collapsed": true
   },
   "outputs": [],
   "source": [
    "def combinaciones(news, facebook):\n",
    "    news_words = news.split(',')\n",
    "    fb_words = facebook.split(',')\n",
    "\n",
    "    for n in news_words:\n",
    "        if n not in my_dict:\n",
    "            my_dict[n] = {}\n",
    "\n",
    "        for f in fb_words:\n",
    "            if f not in my_dict[n]:\n",
    "                my_dict[n][f] = 1\n",
    "            else:\n",
    "                my_dict[n][f] += 1"
   ]
  },
  {
   "cell_type": "code",
   "execution_count": 3,
   "metadata": {},
   "outputs": [
    {
     "name": "stdout",
     "output_type": "stream",
     "text": [
      "{'d': {'Y': 1, 'A': 1, 'W': 1}, 'a': {'C': 1, 'A': 1, 'X': 1, 'Y': 1, 'B': 1, 'Z': 1}, 'c': {'C': 1, 'B': 1, 'A': 1}, 'b': {'C': 1, 'Y': 1, 'B': 1, 'A': 2, 'W': 1}, 'z': {'Y': 1, 'X': 1, 'Z': 1}, 'x': {'Y': 2, 'A': 1, 'W': 1, 'X': 1, 'Z': 1}}\n"
     ]
    }
   ],
   "source": [
    "combinaciones(news_1, fb_1)\n",
    "combinaciones(news_2, fb_2)\n",
    "combinaciones(news_3,fb_3)\n",
    "print(my_dict)"
   ]
  },
  {
   "cell_type": "code",
   "execution_count": null,
   "metadata": {
    "collapsed": true
   },
   "outputs": [],
   "source": []
  }
 ],
 "metadata": {
  "kernelspec": {
   "display_name": "Python 3",
   "language": "python",
   "name": "python3"
  },
  "language_info": {
   "codemirror_mode": {
    "name": "ipython",
    "version": 3
   },
   "file_extension": ".py",
   "mimetype": "text/x-python",
   "name": "python",
   "nbconvert_exporter": "python",
   "pygments_lexer": "ipython3",
   "version": "3.5.3"
  }
 },
 "nbformat": 4,
 "nbformat_minor": 2
}
