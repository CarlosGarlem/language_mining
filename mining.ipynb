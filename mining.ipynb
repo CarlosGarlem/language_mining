{
 "cells": [
  {
   "cell_type": "code",
   "execution_count": 1,
   "metadata": {
    "collapsed": true
   },
   "outputs": [],
   "source": [
    "### Get comments by using Facebook API ###\n",
    "import facebook\n",
    "import requests\n",
    "\n",
    "### Cleaning the comments using nltk ###\n",
    "import re\n",
    "import nltk\n",
    "#nltk.download('stopwords') # Uncomment to download stopwords\n",
    "from nltk.corpus import stopwords\n",
    "from nltk.stem.snowball import SpanishStemmer\n",
    "\n",
    "### Create Bag of Words model ###\n",
    "from sklearn.feature_extraction.text import CountVectorizer\n",
    "\n",
    "### Create Bag of Words model ###\n",
    "from sklearn.feature_extraction.text import CountVectorizer\n",
    "\n",
    "### Web Scrapping ###\n",
    "from bs4 import BeautifulSoup\n",
    "\n",
    "### Saving data ###\n",
    "import os\n"
   ]
  },
  {
   "cell_type": "code",
   "execution_count": 55,
   "metadata": {
    "collapsed": true
   },
   "outputs": [],
   "source": [
    "\n",
    "def get_id_link(id='prensalibregt/posts?'):\n",
    "    access_token = 'EAACEdEose0cBADP4o6TYH7IcRcrnCgGs3EYxonbzZAyn4RNyBgA8N6wHMltZCXSkaVSiNZBKvcwHwZCl64Ws0Xwd8nW0CEndGRbvzZAHp1z54JQ06MXCqISD4yrTNZCgIzzT3ZAadGQ5cXerKMl6DIlWzl1mAsIMVxqtb4EtfAJra1Wt8VZBOFbTB1ROdOqZAZCPEHyy0xOe6RiQZDZD'\n",
    "    graph = facebook.GraphAPI(access_token)\n",
    "    post = graph.get_object(id=id, fields='link')\n",
    "    \n",
    "    id_news = []\n",
    "    link_news = []\n",
    "    \n",
    "    for posts in post['data']:\n",
    "        id_news.append(posts['id'])\n",
    "        link_news.append(posts['link'])\n",
    "    return [id_news,  link_news] \n",
    "\n",
    "\n",
    "def get_facebook_comments(news_id):\n",
    "    comments = get_comments(news_id)\n",
    "    corpus = clean_comments(comments)\n",
    "    words = bag_of_words(corpus, max_features = 10)\n",
    "    return [comments, corpus, words]\n",
    "\n",
    "\n",
    "def get_comments(news_id):\n",
    "    # Facebook Access Token: https://developers.facebook.com/tools/explorer/\n",
    "    access_token = 'EAACEdEose0cBADP4o6TYH7IcRcrnCgGs3EYxonbzZAyn4RNyBgA8N6wHMltZCXSkaVSiNZBKvcwHwZCl64Ws0Xwd8nW0CEndGRbvzZAHp1z54JQ06MXCqISD4yrTNZCgIzzT3ZAadGQ5cXerKMl6DIlWzl1mAsIMVxqtb4EtfAJra1Wt8VZBOFbTB1ROdOqZAZCPEHyy0xOe6RiQZDZD'\n",
    "\n",
    "    user = '/me'\n",
    "    graph = facebook.GraphAPI(access_token)\n",
    "    profile = graph.get_object(user)\n",
    "\n",
    "    # Testing with Prensa Libre's posts\n",
    "    posts = graph.get_connections(id =news_id, connection_name='comments')\n",
    " \n",
    "    comments = []\n",
    "    while True:\n",
    "        try:\n",
    "            for post in posts['data']:\n",
    "                comments.append(post['message'])\n",
    "            posts = requests.get(posts['paging']['next']).json()\n",
    "        except KeyError:\n",
    "            break\n",
    "    \n",
    "    return comments\n",
    "\n",
    "\n",
    "def clean_comments(comments):\n",
    "    corpus = []\n",
    "    for i in range(0,len(comments)):\n",
    "        review = re.sub('[^a-zA-Z]', ' ', comments[i])\n",
    "        review = review.lower()\n",
    "        review = review.split()\n",
    "        stemmer = SpanishStemmer()\n",
    "        review = [stemmer.stem(word) for word in review if not word in set(stopwords.words('spanish'))]\n",
    "        review = ' '.join(review)\n",
    "        corpus.append(review)\n",
    "        \n",
    "    return corpus\n",
    "\n",
    "\n",
    "def bag_of_words(corpus, max_features = 5):\n",
    "    cv = CountVectorizer(max_features = max_features)\n",
    "    X = cv.fit_transform(corpus).toarray()\n",
    "    return cv.get_feature_names() \n",
    "\n",
    "\n",
    "def getNoticia(url):\n",
    "    # Capturamos la url ingresada en la variable \"url\"\n",
    "    url = url\n",
    "    r  = requests.get(url)\n",
    "    data = r.text\n",
    "    \n",
    "    # Creamos el objeto soup y le pasamos lo capturado con request\n",
    "    soup = BeautifulSoup(data, \"html.parser\")\n",
    "\n",
    "    #aqui se toman los articulos extra de prensalibre para removerlos al final y dejar solo la noticia de interes\n",
    "    articles = soup.find_all('article', {'class' : 'story related gi'})\n",
    "    numArticulos = 0\n",
    "    for article in articles:\n",
    "        numArticulos+=1\n",
    "\n",
    "    # Find all of the text between paragraph tags and strip out the html\n",
    "    parrafos = soup.find_all('p', {'class' : ''})\n",
    "    listaParrafos = []\n",
    "    for parrafo in parrafos:\n",
    "        listaParrafos.append(parrafo.getText())\n",
    "\n",
    "\n",
    "    #obtener solo los parrafos de contenido relevante (no noticias adicionales, publicidad, etc...)\n",
    "    limiteSinArticulos = len(listaParrafos)- numArticulos#len(listaArticulos)\n",
    "    cadena = \"\"\n",
    "    for i in range(0,limiteSinArticulos):\n",
    "        cadena += listaParrafos[i]\n",
    "    return cadena\n",
    "\n",
    "def get_News(url):\n",
    "    listNews = []\n",
    "    news = getNoticia(url)\n",
    "    listNews.append(news)\n",
    "    corpus = clean_comments(listNews)\n",
    "    words = bag_of_words(corpus, max_features = 10)\n",
    "    return [listNews, corpus, words]\n",
    "\n",
    "\n",
    "### Auxiliary function for making array of words ###\n",
    "def palabraComentario (lista1, lista2):\n",
    "    listaT = []\n",
    "    for p in lista1:\n",
    "        for c in lista2:\n",
    "            listaT.append([p,c])\n",
    "    return listaT\n",
    "\n",
    "### Auxiliary function for saving data ###\n",
    "def save_data(file, data):\n",
    "    file = open(file, \"w\")\n",
    "    for e in data:\n",
    "        file.write(e[0] + \",\" + e[1] + os.linesep)\n",
    "    file.close()\n",
    "    \n",
    "###auxiliary function for removing fb links that are not the main prensalibre.gt links###\n",
    "def filterLinks():\n",
    "    filtered_news = []\n",
    "    filtered_links = []\n",
    "    [id_news, link_news] = get_id_link()\n",
    "    for i in range(len(id_news)):\n",
    "        if 'facebook.com' not in link_news[i]: #esta condicion subirla a get_id_link para optimizar todo\n",
    "            filtered_news.append(id_news[i])\n",
    "            filtered_links.append(link_news[i])\n",
    "\n",
    "    return [filtered_news, filtered_links]\n",
    "\n",
    "##auxiliary function to automate the writting of the bag of words model for various news and comments###\n",
    "def automate():\n",
    "    [id_news, link_news] = filterLinks() #sistuir por get_id_link\n",
    "    for i in range(len(id_news)):\n",
    "        [facebook_comments, facebook_corpus, facebook_words] = get_facebook_comments(id_news[i])\n",
    "        [news_comments, news_corpus, news_words] = get_News(link_news[i])\n",
    "\n",
    "        data = palabraComentario (facebook_words, news_words)\n",
    "        i = 0\n",
    "        save_data(\"C:\\\\Users\\\\Carlos\\\\Desktop\\\\data.txt\", data) #esto debe arreglarse para no ingresar sobre el mismo"
   ]
  },
  {
   "cell_type": "code",
   "execution_count": 32,
   "metadata": {},
   "outputs": [
    {
     "name": "stdout",
     "output_type": "stream",
     "text": [
      "345419408148_10155738727488149 https://www.facebook.com/prensalibregt/videos/10155738727488149/\n"
     ]
    }
   ],
   "source": [
    "[id_news, link_news] = get_id_link()\n",
    "print(id_news[3], link_news[3])"
   ]
  },
  {
   "cell_type": "code",
   "execution_count": 47,
   "metadata": {},
   "outputs": [
    {
     "name": "stdout",
     "output_type": "stream",
     "text": [
      "345419408148_10155738630368149 http://bit.ly/2gd7nCU\n"
     ]
    }
   ],
   "source": [
    "[id_news, link_news] = filterLinks()\n",
    "print(id_news[3], link_news[3])"
   ]
  },
  {
   "cell_type": "code",
   "execution_count": 56,
   "metadata": {
    "scrolled": true
   },
   "outputs": [
    {
     "ename": "TypeError",
     "evalue": "Can't convert 'int' object to str implicitly",
     "output_type": "error",
     "traceback": [
      "\u001b[1;31m---------------------------------------------------------------------------\u001b[0m",
      "\u001b[1;31mTypeError\u001b[0m                                 Traceback (most recent call last)",
      "\u001b[1;32m<ipython-input-56-380d7783af4e>\u001b[0m in \u001b[0;36m<module>\u001b[1;34m()\u001b[0m\n\u001b[1;32m----> 1\u001b[1;33m \u001b[0mautomate\u001b[0m\u001b[1;33m(\u001b[0m\u001b[1;33m)\u001b[0m\u001b[1;33m;\u001b[0m\u001b[1;33m\u001b[0m\u001b[0m\n\u001b[0m",
      "\u001b[1;32m<ipython-input-55-50304a1519e1>\u001b[0m in \u001b[0;36mautomate\u001b[1;34m()\u001b[0m\n\u001b[0;32m    138\u001b[0m         \u001b[0mdata\u001b[0m \u001b[1;33m=\u001b[0m \u001b[0mpalabraComentario\u001b[0m \u001b[1;33m(\u001b[0m\u001b[0mfacebook_words\u001b[0m\u001b[1;33m,\u001b[0m \u001b[0mnews_words\u001b[0m\u001b[1;33m)\u001b[0m\u001b[1;33m\u001b[0m\u001b[0m\n\u001b[0;32m    139\u001b[0m         \u001b[0mi\u001b[0m \u001b[1;33m=\u001b[0m \u001b[1;36m0\u001b[0m\u001b[1;33m\u001b[0m\u001b[0m\n\u001b[1;32m--> 140\u001b[1;33m         \u001b[0msave_data\u001b[0m\u001b[1;33m(\u001b[0m\u001b[1;34m\"C:\\\\Users\\\\Carlos\\\\Desktop\\\\data\"\u001b[0m \u001b[1;33m+\u001b[0m \u001b[0mi\u001b[0m \u001b[1;33m+\u001b[0m \u001b[1;34m\".txt\"\u001b[0m\u001b[1;33m,\u001b[0m \u001b[0mdata\u001b[0m\u001b[1;33m)\u001b[0m\u001b[1;33m\u001b[0m\u001b[0m\n\u001b[0m",
      "\u001b[1;31mTypeError\u001b[0m: Can't convert 'int' object to str implicitly"
     ]
    }
   ],
   "source": [
    "automate();"
   ]
  },
  {
   "cell_type": "code",
   "execution_count": null,
   "metadata": {
    "collapsed": true
   },
   "outputs": [],
   "source": []
  }
 ],
 "metadata": {
  "kernelspec": {
   "display_name": "Python 3",
   "language": "python",
   "name": "python3"
  },
  "language_info": {
   "codemirror_mode": {
    "name": "ipython",
    "version": 3
   },
   "file_extension": ".py",
   "mimetype": "text/x-python",
   "name": "python",
   "nbconvert_exporter": "python",
   "pygments_lexer": "ipython3",
   "version": "3.5.3"
  }
 },
 "nbformat": 4,
 "nbformat_minor": 2
}
