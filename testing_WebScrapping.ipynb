{
 "cells": [
  {
   "cell_type": "code",
   "execution_count": 8,
   "metadata": {
    "collapsed": true
   },
   "outputs": [],
   "source": [
    "# Haciendo pruebas con BeautifulSoup y requests\n",
    " \n",
    "# Importamos las librerias\n",
    "from bs4 import BeautifulSoup\n",
    "import requests\n",
    "import nltk\n",
    "\n",
    "from nltk.corpus import stopwords\n",
    "from nltk.tokenize import word_tokenize"
   ]
  },
  {
   "cell_type": "code",
   "execution_count": 11,
   "metadata": {
    "scrolled": false
   },
   "outputs": [
    {
     "name": "stdout",
     "output_type": "stream",
     "text": [
      "El titulo de la pagina es: \r\n",
      "\tLíderes critican decisión de Trump de terminar con el DACA\r\n",
      "\n",
      "El arreglo tokenizado del titulo es: \n",
      "['Líderes', 'critican', 'decisión', 'de', 'Trump', 'de', 'terminar', 'con', 'el', 'DACA']\n",
      "\n",
      "El arreglo tokenizado y filtrado del titulo es: \n",
      "['Líderes', 'critican', 'decisión', 'Trump', 'terminar', 'DACA']\n"
     ]
    }
   ],
   "source": [
    "\n",
    "\n",
    "# Capturamos la url ingresada en la variable \"url\"\n",
    "url = \"http://www.prensalibre.com/internacional/lideres-critican-decision-de-trump-de-terminar-con-el-daca\"\n",
    " \n",
    "# Capturamos el html de la pagina web y creamos un objeto Response\n",
    "r  = requests.get(url)\n",
    "data = r.text\n",
    "\n",
    "# Creamos el objeto soup y le pasamos lo capturado con request\n",
    "soup = BeautifulSoup(data, \"html.parser\")\n",
    " \n",
    "# Capturamos el titulo de la página y luego lo mostramos\n",
    "# Lo que hace BeautifulSoup es capturar lo que esta dentro de la etiqueta title de la url\n",
    "titulo = soup.title.text\n",
    "print (\"El titulo de la pagina es: \" + titulo)\n",
    "\n",
    "example_sent = titulo\n",
    " \n",
    "stop_words = set(stopwords.words('spanish'))\n",
    " \n",
    "word_tokens = word_tokenize(example_sent)\n",
    " \n",
    "filtered_sentence = [w for w in word_tokens if not w in stop_words] \n",
    "\n",
    "print(\"El arreglo tokenizado del titulo es: \")\n",
    "print(word_tokens)\n",
    "\n",
    "print(\"\\nEl arreglo tokenizado y filtrado del titulo es: \")\n",
    "print(filtered_sentence)"
   ]
  },
  {
   "cell_type": "code",
   "execution_count": 4,
   "metadata": {
    "collapsed": true
   },
   "outputs": [],
   "source": [
    "from urllib.request import urlopen as uReq\n",
    "from bs4 import BeautifulSoup as soup "
   ]
  },
  {
   "cell_type": "code",
   "execution_count": 7,
   "metadata": {},
   "outputs": [
    {
     "name": "stdout",
     "output_type": "stream",
     "text": [
      "<class 'bytes'>\n"
     ]
    },
    {
     "data": {
      "text/plain": [
       "<h1 id=\"seo_h1_tag\"></h1>"
      ]
     },
     "execution_count": 7,
     "metadata": {},
     "output_type": "execute_result"
    }
   ],
   "source": [
    "my_url = 'https://www.facebook.com/prensalibregt/'\n",
    "#opening a conection, grabbing the page\n",
    "uCliente = uReq(my_url)\n",
    "page_html = uCliente.read()\n",
    "print(type(page_html))\n",
    "uCliente.close()\n",
    "\n",
    "\n",
    "page_soup = soup(page_html,\"html.parser\")\n",
    "page_soup.h1\n"
   ]
  },
  {
   "cell_type": "code",
   "execution_count": null,
   "metadata": {
    "collapsed": true
   },
   "outputs": [],
   "source": []
  }
 ],
 "metadata": {
  "kernelspec": {
   "display_name": "Python 3",
   "language": "python",
   "name": "python3"
  },
  "language_info": {
   "codemirror_mode": {
    "name": "ipython",
    "version": 3
   },
   "file_extension": ".py",
   "mimetype": "text/x-python",
   "name": "python",
   "nbconvert_exporter": "python",
   "pygments_lexer": "ipython3",
   "version": "3.5.3"
  }
 },
 "nbformat": 4,
 "nbformat_minor": 2
}
