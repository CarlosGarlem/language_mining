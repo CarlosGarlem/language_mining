{
 "cells": [
  {
   "cell_type": "code",
   "execution_count": 7,
   "metadata": {
    "collapsed": true
   },
   "outputs": [],
   "source": [
    "# Importamos las librerias\n",
    "from bs4 import BeautifulSoup\n",
    "import requests\n",
    "import nltk"
   ]
  },
  {
   "cell_type": "code",
   "execution_count": 5,
   "metadata": {
    "collapsed": true
   },
   "outputs": [],
   "source": [
    "def getNoticia(url):\n",
    "    # Capturamos la url ingresada en la variable \"url\"\n",
    "    url = url\n",
    "    r  = requests.get(url)\n",
    "    data = r.text\n",
    "    \n",
    "    # Creamos el objeto soup y le pasamos lo capturado con request\n",
    "    soup = BeautifulSoup(data, \"html.parser\")\n",
    "\n",
    "    #aqui se toman los articulos extra de prensalibre para removerlos al final y dejar solo la noticia de interes\n",
    "    articles = soup.find_all('article', {'class' : 'story related gi'})\n",
    "    numArticulos = 0\n",
    "    for article in articles:\n",
    "        numArticulos+=1\n",
    "\n",
    "    # Find all of the text between paragraph tags and strip out the html\n",
    "    parrafos = soup.find_all('p', {'class' : ''})\n",
    "    listaParrafos = []\n",
    "    for parrafo in parrafos:\n",
    "        listaParrafos.append(parrafo.getText())\n",
    "\n",
    "\n",
    "    #obtener solo los parrafos de contenido relevante (no noticias adicionales, publicidad, etc...)\n",
    "    limiteSinArticulos = len(listaParrafos)- numArticulos#len(listaArticulos)\n",
    "    cadenita = \"\"\n",
    "    for i in range(0,limiteSinArticulos):\n",
    "        cadenita += listaParrafos[i]\n",
    "    return cadenita"
   ]
  },
  {
   "cell_type": "code",
   "execution_count": 6,
   "metadata": {},
   "outputs": [
    {
     "name": "stdout",
     "output_type": "stream",
     "text": [
      "El presidente de la Cámara de Representantes, Paul Ryan, afirmó este martes que la política del gobierno de Barack Obama de proteger a inmigrantes que fueron traídos de niños fue “un claro abuso de la autoridad ejecutiva” y que ahora el Congreso debe actuar.En un comunicado, el dirigente republicano dijo que el núcleo del tema son “esos jóvenes que vinieron a este país sin tener la culpa de nada”.Ryan expresó esperanzas de que la Cámara de Representantes y el Senado encontrarán una solución consensuada al problema. Afirmó que es importante garantizar que quienes no hayan hecho nada malo puedan seguir contribuyendo \"como valiosos miembros de este gran país”.El comunicado de Ryan surgió luego de que el secretario de Justicia Jeff Sessions anunció que el Gobierno le está poniendo fin al programa conocido como DACA. El presidente estadounidense Donald Trump defendió su decisión de descontinuar un programa federal que protege de deportación a jóvenes inmigrantes traídos ilegalmente de niños al país, diciendo que le está dando al Congreso “una oportunidad para actuar”.Trump dijo en su declaración que no va a “simplemente eliminar DACA, sino a proveer al Congreso una oportunidad para que actúe finalmente\", y agrega: “Los jóvenes estadounidenses también tienen sueños”. En tanto, la líder de los demócratas en la Cámara de Representantes, Nancy Pelosi, calificó la decisión del presidente Donald Trump de poner fin al programa que protege a inmigrantes que fueron traídos al país por sus padres cuando eran niños, \"un ejemplo profundamente vergonzoso de cobardía política”.Añadió, en un comunicado, que la decisión de cesar el programa es “un nefasto atentado contra jóvenes inocentes en comunidades de todo el país”.Dijo que urge que el Congreso tome acción al respecto, y que el presidente de la Cámara baja Paul Ryan y el resto de los republicanos deben convocar a una votación inmediatamente sobre el tema. \"Si se deshace de DACA, Trump está demostrando que es un mentiroso\". Javier Palomarez, presidente de la Cámara de Comercio Hispana de EE.UU.El presidente de la Cámara de Comercio Hispana de EE.UU., Javier Palomarez, uno de los asesores de la Casa Blanca, había considerado que el presidente Donald Trump sería un \"mentiroso\" si acababa con el programa DACA, que ha protegido de la deportación a 800 mil jóvenes indocumentados.\"Si se deshace de DACA, está demostrando que es un mentiroso\", dijo a la cadena CNN, Palomarez, tejano hijo de mexicanos, firme defensor de una reforma migratoria y que, a principios de este año, se unió a la Coalición de Diversidad del presidente Trump para asesorarlo en temas de inmigración.Trump y Palomarez ya protagonizaron durante la campaña electoral numerosos desencuentros a raíz de la cancelación por parte del magnate de su asistencia a un foro organizado por la Cámara de Comercio Hispana al no estar de acuerdo con las condiciones del evento.Palomarez anunció este martes su renuncia como asesor del presidente Donald Trump en protesta por la medida anunciadaEl gobierno de México también expresó el martes su “profunda preocupación” por la situación de miles de jóvenes nacidos aquí pero criados en Estados Unidos que se verán afectados por la cancelación del programa DACA.En un comunicado emitido poco después de que el presidente Donald Trump anunciara la cancelación del programa, la Cancillería mexicana indicó que “por la vía diplomática y siempre en estricto apego a derecho” promoverá “activamente” llegar a una “solución permanente” para estas personas.\n"
     ]
    }
   ],
   "source": [
    "noticia = getNoticia(\"http://www.prensalibre.com/internacional/lideres-critican-decision-de-trump-de-terminar-con-el-daca\")\n",
    "print(noticia)"
   ]
  },
  {
   "cell_type": "code",
   "execution_count": null,
   "metadata": {
    "collapsed": true
   },
   "outputs": [],
   "source": []
  }
 ],
 "metadata": {
  "kernelspec": {
   "display_name": "Python 3",
   "language": "python",
   "name": "python3"
  },
  "language_info": {
   "codemirror_mode": {
    "name": "ipython",
    "version": 3
   },
   "file_extension": ".py",
   "mimetype": "text/x-python",
   "name": "python",
   "nbconvert_exporter": "python",
   "pygments_lexer": "ipython3",
   "version": "3.5.3"
  }
 },
 "nbformat": 4,
 "nbformat_minor": 2
}
