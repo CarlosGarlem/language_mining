{
 "cells": [
  {
   "cell_type": "code",
   "execution_count": 1,
   "metadata": {},
   "outputs": [],
   "source": [
    "# Importamos las librerias\n",
    "from bs4 import BeautifulSoup\n",
    "import requests\n",
    "import nltk\n",
    "\n",
    "import re\n",
    "from nltk.corpus import stopwords\n",
    "from nltk.stem.snowball import SpanishStemmer\n",
    "from nltk.tokenize import word_tokenize\n",
    "\n",
    "### Create Bag of Words model ###\n",
    "from sklearn.feature_extraction.text import CountVectorizer"
   ]
  },
  {
   "cell_type": "code",
   "execution_count": 4,
   "metadata": {
    "collapsed": true
   },
   "outputs": [],
   "source": [
    "def getNoticia(url):\n",
    "    # Capturamos la url ingresada en la variable \"url\"\n",
    "    url = url\n",
    "    r  = requests.get(url)\n",
    "    data = r.text\n",
    "    \n",
    "    # Creamos el objeto soup y le pasamos lo capturado con request\n",
    "    soup = BeautifulSoup(data, \"html.parser\")\n",
    "\n",
    "    #aqui se toman los articulos extra de prensalibre para removerlos al final y dejar solo la noticia de interes\n",
    "    articles = soup.find_all('article', {'class' : 'story related gi'})\n",
    "    numArticulos = 0\n",
    "    for article in articles:\n",
    "        numArticulos+=1\n",
    "\n",
    "    # Find all of the text between paragraph tags and strip out the html\n",
    "    parrafos = soup.find_all('p', {'class' : ''})\n",
    "    listaParrafos = []\n",
    "    for parrafo in parrafos:\n",
    "        listaParrafos.append(parrafo.getText())\n",
    "\n",
    "\n",
    "    #obtener solo los parrafos de contenido relevante (no noticias adicionales, publicidad, etc...)\n",
    "    limiteSinArticulos = len(listaParrafos)- numArticulos#len(listaArticulos)\n",
    "    cadena = \"\"\n",
    "    for i in range(0,limiteSinArticulos):\n",
    "        cadena += listaParrafos[i]\n",
    "    return cadena"
   ]
  },
  {
   "cell_type": "code",
   "execution_count": 10,
   "metadata": {},
   "outputs": [
    {
     "name": "stdout",
     "output_type": "stream",
     "text": [
      "\"Esta eliminatoria es diabólica, es una carnicería\", decía un locutor argentino el jueves tras la penúltima fecha de eliminatorias al Mundial 2018.Millones de sudamericanos podemos dar fe de la precisión de su metáfora, porque la clasificación de cinco selecciones -la mitad de la competencia- se definirá en la última fecha y en el territorio de la angustia.De aquí al martes, paraguayos, colombianos, peruanos, chilenos y argentinos haremos cuentas de lo que tiene que pasar para que nuestra selección quede en uno de los tres puestos aún en disputa.Hay 243 escenarios posibles, informó el estadístico español conocido como Mr Chip.En todos nuestros países el fútbol es, para muchos, una pasión vital. Yo, que soy colombiano, soy un fanático encarnizado.Pero, tras años de ver fútbol en diferentes países, creo nunca haber presenciado lo que se vive en Argentina, donde la posibilidad de que la selección no se clasifique al Mundial se cataloga en algunos medios como una \"catástrofe nacional\".El jueves en la mañana, un amigo colombiano de la infancia me escribió después de pasar \"toda la mañana\" viendo televisión deportiva argentina.\"De verdad lo admiro por poder vivir en Argentina\", me dijo.\"Qué manes (tipos) pa echar tanta mierda\", opinó. \"Una hora hablando sobre si los hinchas de River deberían ir al partido (en el estadio de Boca); otra hora sobre si Agüero es culpable de haberse estrellado; otra hora sobre las 4.000 posibles alineaciones\".Luego añadió que los presentadores le tiran insultos a las esposas de sus colegas, que hablan todos al tiempo y que \"todo, al final, no es nada: es ruido de fondo\".Después del comentario, decidí ponerle más atención a los programas de opinión, que son un formato tradicional de la televisión local que hasta ahora no había tenido la paciencia de ver por más de 5 minutos.El formato, influenciado por la televisión estadounidense, consiste en un panel de hasta 10 personas (la mayoría hombres) dando su versión sobre los hechos.En Colombia los tenemos, aunque más pequeños. Y sé que en Chile, Perú y Brasil también hay. Pero no siempre son en televisión, se transmiten en horarios específicos y no están generalizados.En Argentina, en cambio, hay programas de panelistas sobre política, espectáculos y fútbol en horario estelar todos los días.A diferencia de cualquier país de la región, acá hay una decena de canales nacionales, varios de ellos son de noticias continuas y un par le dedican hasta 10 horas del día al formato de opinión con panelistas.No importa cuándo uno prenda la televisión en Argentina: a cualquier hora puede encontrar gente vociferando a diestra y siniestra y, cada tanto, férreas discusiones que en unos casos se han ido a las manos en vivo y en directo (busquen \"Crónica TV pelea\").Expertos dicen que el auge de estos shows se debe a que son baratos, entretenidos, fáciles de hacer y dan una sensación de interacción con la audiencia.Pero para mí también tiene que ver con el increíble talento verbal de los argentinos, heredado de sus ancestros italianos, que son capaces de vender una cáscara de banana si les das el beneficio de la duda.Muchos sudamericanos -entre ellos, mi amigo y yo- crecimos escuchando comentaristas argentinos. Argentina domina el sector, acá están ESPN y FOX y en parte por eso este género periodístico ha crecido tanto acá, donde están las mejores escuelas de la rama en la región.El jueves, entonces, después del partido de Argentina, les dediqué un rato a los programas de panelistas, que encararon la mala situación de su selección como quien va a un funeral.Los nueve hombres del panel hablaron de temáticas conocidas: los supuestos maleficios en la selección, de si Messi es o no el mismo del Barcelona, de si la altura de Quito influirá en la fecha final contra Ecuador.Se insultaron, se interrumpieron con \"pará pará\" e ignoraron la moderación del conductor cuando decía \"chicos, por favor, uno a la vez\".En un momento su famoso síndrome de superioridad, que en fútbol es más que legítimo, se mostró en las intervenciones: \"¿Vas a comparar a la Argentina con Perú?\", dijo uno. \"Las eliminatorias sudamericanas son facilísimas\", aseveró otro, cuando el consenso internacional es que son, de hecho, complicadísimas.Luego entraron en las disertaciones psicoanalíticas sobre la nación: \"La solución no pasa por jugar con Perú, sino por jugar contra nosotros mismos, Argentina es el problema de Argentina\".Después revisé otros canales, y me encontré un panelista, al parecer oficialista, que comparaba a Messi con Cristina Kirchner, a los supuestos males del equipo con los supuestos males del país: \"Somos individualistas, nos cuesta jugar en equipo y a la vez confiamos en salvadores, en líderes mesiánicos y eso se refleja en nuestraselección\".El viernes por la mañana llamé a Pablo Alabarces, un reconocido sociólogo especializado en identidad y fútbol, que me dijo:\"La debacle de la selección argentina les importa más a los periodistas y su preocupación no se puede generalizar a todos los argentinos\".\"Ellos lo catalogan como 'catástrofe nacional' porque así es como lo ven ellos, que tienen un interés mercantil en ir al Mundial\", aseguró.Y citó a Martín Liberman, un excéntrico presentador que habla de \"burros\", \"fracasados\" y \"fiasco\" cuando se refiere a la selección y hace no tanto confesó que \"pierdo guita (dinero) si no vamos al Mundial\" en un video, de tantos, que se hizo viral.La pelea de la selección con la prensa local es tal que desde noviembre los jugadores no dan declaraciones.Algunos expertos creen que esa presión mediática influye en su mal desempeño. Cualquiera el caso, no cabe duda que el debate continuará.\n"
     ]
    }
   ],
   "source": [
    "#noticia = getNoticia(\"http://www.prensalibre.com/internacional/lideres-critican-decision-de-trump-de-terminar-con-el-daca\")\n",
    "noticia = getNoticia(\"http://bit.ly/2yeBcN5\")\n",
    "print(noticia)"
   ]
  },
  {
   "cell_type": "code",
   "execution_count": 6,
   "metadata": {
    "collapsed": true
   },
   "outputs": [],
   "source": [
    "def clean_comments(comments):\n",
    "    corpus = []\n",
    "    for i in range(0,len(comments)):\n",
    "        review = re.sub('[^a-zA-Z]', ' ', comments[i])\n",
    "        review = review.lower()\n",
    "        review = review.split()\n",
    "        stemmer = SpanishStemmer()\n",
    "        review = [stemmer.stem(word) for word in review if not word in set(stopwords.words('spanish'))]\n",
    "        review = ' '.join(review)\n",
    "        corpus.append(review)\n",
    "        \n",
    "    return corpus"
   ]
  },
  {
   "cell_type": "code",
   "execution_count": 11,
   "metadata": {},
   "outputs": [],
   "source": [
    "#word_tokenize(noticia)\n",
    "listaNoticia = []\n",
    "listaNoticia.append(noticia)\n",
    "corpus = clean_comments(listaNoticia)"
   ]
  },
  {
   "cell_type": "code",
   "execution_count": 12,
   "metadata": {
    "collapsed": true
   },
   "outputs": [],
   "source": [
    "def bag_of_words(corpus, max_features = 5):\n",
    "    cv = CountVectorizer(max_features = max_features)\n",
    "    X = cv.fit_transform(corpus).toarray()\n",
    "    return cv.get_feature_names() "
   ]
  },
  {
   "cell_type": "code",
   "execution_count": 13,
   "metadata": {},
   "outputs": [
    {
     "data": {
      "text/plain": [
       "['argentin',\n",
       " 'despu',\n",
       " 'hor',\n",
       " 'pa',\n",
       " 'panel',\n",
       " 'selecci',\n",
       " 'si',\n",
       " 'tbol',\n",
       " 'televisi',\n",
       " 'tic']"
      ]
     },
     "execution_count": 13,
     "metadata": {},
     "output_type": "execute_result"
    }
   ],
   "source": [
    "bag_of_words(corpus,10)"
   ]
  },
  {
   "cell_type": "code",
   "execution_count": null,
   "metadata": {
    "collapsed": true
   },
   "outputs": [],
   "source": []
  }
 ],
 "metadata": {
  "kernelspec": {
   "display_name": "Python 3",
   "language": "python",
   "name": "python3"
  },
  "language_info": {
   "codemirror_mode": {
    "name": "ipython",
    "version": 3
   },
   "file_extension": ".py",
   "mimetype": "text/x-python",
   "name": "python",
   "nbconvert_exporter": "python",
   "pygments_lexer": "ipython3",
   "version": "3.5.3"
  }
 },
 "nbformat": 4,
 "nbformat_minor": 2
}
